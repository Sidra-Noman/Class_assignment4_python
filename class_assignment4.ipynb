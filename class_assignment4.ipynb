{
  "cells": [
    {
      "cell_type": "markdown",
      "metadata": {
        "id": "view-in-github",
        "colab_type": "text"
      },
      "source": [
        "<a href=\"https://colab.research.google.com/github/Sidra-Noman/Class_assignment4_python/blob/main/class_assignment4.ipynb\" target=\"_parent\"><img src=\"https://colab.research.google.com/assets/colab-badge.svg\" alt=\"Open In Colab\"/></a>"
      ]
    },
    {
      "cell_type": "markdown",
      "metadata": {
        "id": "gw5G7BuErapJ"
      },
      "source": [
        "List Methods Practice"
      ]
    },
    {
      "cell_type": "code",
      "execution_count": null,
      "metadata": {
        "colab": {
          "base_uri": "https://localhost:8080/"
        },
        "id": "iAoUguZF1MiG",
        "outputId": "c12aba44-3512-447d-ca3d-8d8fe90b0273"
      },
      "outputs": [
        {
          "name": "stdout",
          "output_type": "stream",
          "text": [
            "Final list of fruits: ['apple', 'mango', 'orange', 'grape']\n"
          ]
        }
      ],
      "source": [
        "# 1. Create and Modify Lists\n",
        "\n",
        "fruits = [\"apple\",\"banana\",\"orange\"]\n",
        "fruits.append(\"grape\")    # Add \"grape\" to the end of the list\n",
        "fruits.insert(2,\"mango\")  # Insert \"mango\" at position 2\n",
        "fruits.remove(\"banana\")   # Remove \"banana\" from the list\n",
        "print(\"Final list of fruits:\", fruits)  # Print the final list\n"
      ]
    },
    {
      "cell_type": "code",
      "execution_count": null,
      "metadata": {
        "id": "hfIIL0MGrXql"
      },
      "outputs": [],
      "source": []
    },
    {
      "cell_type": "code",
      "execution_count": null,
      "metadata": {
        "colab": {
          "base_uri": "https://localhost:8080/"
        },
        "id": "lqRj6i303J0r",
        "outputId": "0a6f3693-d85e-4720-87bc-e355dbf8957e"
      },
      "outputs": [
        {
          "name": "stdout",
          "output_type": "stream",
          "text": [
            "All numbers: [10, 20, 30, 40, 50, 60, 70, 80]\n",
            "Reversed copy: [80, 70, 60, 50, 40, 30, 20, 10]\n"
          ]
        }
      ],
      "source": [
        "# 2. List Operations\n",
        "\n",
        "numbers = [10,20,30,40,50]  # Create a list numbers with values: 10, 20, 30, 40, 50\n",
        "more_numbers = [60,70,80]   # Create a second list more_numbers with values: 60, 70, 80\n",
        "all_numbers = numbers + more_numbers  # Combine both lists into a new list called all_numbers\n",
        "numbers_copy = all_numbers.copy()  # Create a copy of all_numbers called numbers_copy\n",
        "numbers_copy.reverse()  # Reverse the order of numbers_copy\n",
        "\n",
        "# Print both all_numbers and numbers_copy\n",
        "print(\"All numbers:\", all_numbers)\n",
        "print(\"Reversed copy:\", numbers_copy)"
      ]
    },
    {
      "cell_type": "code",
      "execution_count": null,
      "metadata": {
        "colab": {
          "base_uri": "https://localhost:8080/"
        },
        "id": "ri_tyTP05SuL",
        "outputId": "8187600b-5c16-434b-8641-0e8a2fb03fa8"
      },
      "outputs": [
        {
          "name": "stdout",
          "output_type": "stream",
          "text": [
            "List in ascending order: [65, 74, 78, 85, 85, 92, 92]\n",
            "List in descending order: [92, 92, 85, 85, 78, 74, 65]\n",
            "Count of 92: 2\n",
            "Highest score: 92\n",
            "Lowest score: 65\n"
          ]
        }
      ],
      "source": [
        "# 3. Sorting and Counting\n",
        "\n",
        "# Create a list scores with these values\n",
        "scores: list[int] = [85, 92, 78, 65, 92, 85, 74]\n",
        "# Sort the list in ascending order\n",
        "asc_scores : list[int]= sorted(scores)\n",
        "\n",
        "# Sort the list in descending order\n",
        "desc_scores : list[int]= sorted(scores, reverse=True)\n",
        "# Count how many times 92 appears in the list\n",
        "count_92 = scores.count(92)\n",
        "print(\"List in ascending order:\",  asc_scores)\n",
        "print(\"List in descending order:\", desc_scores)\n",
        "print(\"Count of 92:\", count_92)\n",
        "# Find and print the highest and lowest scores\n",
        "highest_score = max(scores)\n",
        "lowest_score = min(scores)\n",
        "print(\"Highest score:\", highest_score)\n",
        "print(\"Lowest score:\", lowest_score)\n",
        "\n"
      ]
    },
    {
      "cell_type": "code",
      "execution_count": null,
      "metadata": {
        "colab": {
          "base_uri": "https://localhost:8080/"
        },
        "id": "RYXzUbCn9nMX",
        "outputId": "973a6329-bdbd-4c57-a0ac-e8ca89434dec"
      },
      "outputs": [
        {
          "name": "stdout",
          "output_type": "stream",
          "text": [
            "First three letters: ['a', 'b', 'c']\n",
            "Last two letters: ['d', 'e']\n",
            "Index of 'c': 2\n",
            "Modified list: ['a', 'b', 'c', 'z', 'e']\n"
          ]
        }
      ],
      "source": [
        "# 4. List Manipulation\n",
        "# Create a list letters with values: \"a\", \"b\", \"c\", \"d\", \"e\"\n",
        "letters: list[str] = [\"a\", \"b\", \"c\", \"d\", \"e\"]\n",
        "# Use slicing to create a new list with only the first three letters\n",
        "first_three_letters = letters[:3]\n",
        "# Use slicing to create a new list with only the last two letters\n",
        "last_two_letters = letters[-2:]\n",
        "# Find and print the index of \"c\" in the list\n",
        "c_index = letters.index(\"c\")\n",
        "# Replace \"d\" with \"z\" in the original list\n",
        "letters[3] = \"z\"\n",
        "print(\"First three letters:\", first_three_letters)\n",
        "print(\"Last two letters:\", last_two_letters)\n",
        "print(\"Index of 'c':\", c_index)\n",
        "print(\"Modified list:\", letters)\n"
      ]
    },
    {
      "cell_type": "markdown",
      "metadata": {
        "id": "yluJZO5QrkhU"
      },
      "source": [
        "Dictionary Methods Practice\n"
      ]
    },
    {
      "cell_type": "code",
      "execution_count": null,
      "metadata": {
        "colab": {
          "base_uri": "https://localhost:8080/"
        },
        "id": "1hKCRM_R_gUi",
        "outputId": "46d96fdd-071f-41bb-bc57-3d292b38fef3"
      },
      "outputs": [
        {
          "name": "stdout",
          "output_type": "stream",
          "text": [
            "Student Name: John\n",
            "Courses: ['Maths', 'Science', 'History']\n",
            "Updated student dictionary: {'name': 'John', 'age': 20, 'grade': 'A', 'courses': ['Maths', 'Science', 'History'], 'email': 'john@example.com'}\n"
          ]
        }
      ],
      "source": [
        "\n",
        "# 1. Create and Access Dictionaries\n",
        "student = {\n",
        "    \"name\":\"John\",\n",
        "    \"age\": 20,\n",
        "    \"grade\": \"A\",\n",
        "    \"courses\":[\"Maths\",\"Science\",\"History\"]\n",
        "}\n",
        "# Print the student's name\n",
        "print(\"Student Name:\", student[\"name\"])\n",
        "# Print the list of courses\n",
        "print(\"Courses:\", student[\"courses\"])\n",
        "# Add a new key-value pair for email\n",
        "student[\"email\"] = \"john@example.com\"\n",
        "\n",
        "# Print the entire dictionary\n",
        "print(\"Updated student dictionary:\", student)"
      ]
    },
    {
      "cell_type": "code",
      "execution_count": null,
      "metadata": {
        "colab": {
          "base_uri": "https://localhost:8080/"
        },
        "id": "q7liH8ZmdjFP",
        "outputId": "e270de65-55e2-43a2-ccfb-4796173152f3"
      },
      "outputs": [
        {
          "name": "stdout",
          "output_type": "stream",
          "text": [
            "Modified student dictionary: {'name': 'John', 'age': 21, 'grade': 'A+', 'courses': ['Maths', 'Science', 'History', 'Computer Science', 'Computer Science', 'Computer Science', 'Computer Science', 'Computer Science', 'Computer Science'], 'email': 'john@example.com'}\n"
          ]
        }
      ],
      "source": [
        "# 2. Modify Dictionary Values\n",
        "# Change the student's age to 21\n",
        "student[\"age\"] = 21\n",
        "# Add a new course \"Computer Science\" to the courses list\n",
        "student[\"courses\"].append(\"Computer Science\")\n",
        "# Update the grade to \"A+\"\n",
        "student[\"grade\"] = \"A+\"\n",
        "# Print the modified dictionary\n",
        "print(\"Modified student dictionary:\", student)\n",
        "\n"
      ]
    },
    {
      "cell_type": "code",
      "execution_count": null,
      "metadata": {
        "colab": {
          "base_uri": "https://localhost:8080/"
        },
        "id": "3Sikf5Nfgjw8",
        "outputId": "bafd141c-5e72-4ab5-cfa9-7d7fd8b1538e"
      },
      "outputs": [
        {
          "name": "stdout",
          "output_type": "stream",
          "text": [
            "Combined student information: {'name': 'John', 'age': 21, 'grade': 'A+', 'courses': ['Maths', 'Science', 'History', 'computer Science'], 'email': 'john@example.com', 'street': '123 College Ave', 'city': 'New York', 'zip': '10001'}\n",
            "Phone key exists: False\n",
            "Final student information: {'name': 'John', 'age': 21, 'grade': 'A+', 'courses': ['Maths', 'Science', 'History', 'computer Science'], 'email': 'john@example.com', 'street': '123 College Ave', 'city': 'New York'}\n"
          ]
        }
      ],
      "source": [
        "# 3. Dictionary Operations\n",
        "# Existing Dictionary\n",
        "student = {\n",
        "    \"name\":\"John\",\n",
        "    \"age\": 21,\n",
        "    \"grade\": \"A+\",\n",
        "    \"courses\":[\"Maths\",\"Science\",\"History\",\"computer Science\"],\n",
        "    \"email\" :\"john@example.com\"\n",
        "}\n",
        "\n",
        "# Create the second dictionary\n",
        "student_address = {\n",
        "    \"street\": \"123 College Ave\",\n",
        "    \"city\": \"New York\",\n",
        "    \"zip\": \"10001\"\n",
        "}\n",
        "# Combine both dictionaries into a new dictionary called student_info\n",
        "student_info = {**student, **student_address}\n",
        "# Print the combined dictionary\n",
        "print(\"Combined student information:\", student_info)\n",
        "#  Remove the \"zip\" key from student_info\n",
        "student_info.pop(\"zip\", None)  # 'None' prevents error if key doesn't exist\n",
        "# Check if \"phone\" exists\n",
        "phone_exists = \"phone\" in student_info\n",
        "print(\"Phone key exists:\", phone_exists)\n",
        "#  Print the final dictionary\n",
        "print(\"Final student information:\", student_info)\n",
        "\n"
      ]
    },
    {
      "cell_type": "code",
      "execution_count": null,
      "metadata": {
        "colab": {
          "base_uri": "https://localhost:8080/"
        },
        "id": "lvpgPNfvkIk8",
        "outputId": "76cfd70b-e872-437a-9d79-33a58045e8c5"
      },
      "outputs": [
        {
          "name": "stdout",
          "output_type": "stream",
          "text": [
            "Keys as a list: ['hello', 'world', 'python']\n",
            "Values as a list: [5, 10, 15]\n",
            "Key-value pairs as a list: [('hello', 5), ('world', 10), ('python', 15)]\n",
            "Copy of word_count: {'hello': 5, 'world': 10, 'python': 15}\n",
            "Original dictionary after clear: {}\n",
            "Copy of original dictionary: {'hello': 5, 'world': 10, 'python': 15}\n"
          ]
        }
      ],
      "source": [
        "# 4. Dictionary Methods\n",
        "# Create the dictionary\n",
        "word_count = {\n",
        "    \"hello\": 5,\n",
        "    \"world\": 10,\n",
        "    \"python\": 15\n",
        "}\n",
        "# Get all keys and print them as a list\n",
        "keys = list(word_count.keys())\n",
        "print(\"Keys as a list:\", keys)\n",
        "# Get all values and print them as a list\n",
        "values = list(word_count.values())\n",
        "print(\"Values as a list:\", values)\n",
        "#  Get all key-value pairs and print them\n",
        "key_value_pairs = list(word_count.items())\n",
        "print(\"Key-value pairs as a list:\", key_value_pairs)\n",
        "#  Make a copy of the dictionary\n",
        "word_count_copy = word_count.copy()\n",
        "# Print the copy\n",
        "print(\"Copy of word_count:\", word_count_copy)\n",
        "# Clear the original dictionary\n",
        "word_count.clear()\n",
        "# Print both dictionaries to verify one is empty and one is a copy of the other\n",
        "print(\"Original dictionary after clear:\", word_count)\n",
        "print(\"Copy of original dictionary:\", word_count_copy)"
      ]
    },
    {
      "cell_type": "markdown",
      "metadata": {
        "id": "TfgpwrGprt3T"
      },
      "source": [
        "Shopping Discount Calculator"
      ]
    },
    {
      "cell_type": "code",
      "execution_count": null,
      "metadata": {
        "colab": {
          "base_uri": "https://localhost:8080/"
        },
        "id": "vDG9vbMEn7Gb",
        "outputId": "7602fcff-c080-4ff0-98cc-3e577f6ff9c5"
      },
      "outputs": [
        {
          "name": "stdout",
          "output_type": "stream",
          "text": [
            "Original Purchase Amount: $ 150.75\n",
            "\n",
            "Discounts Applied:\n",
            "- 10% off for purchases over $100: -$15.08\n",
            "- 5% Loyalty Member Discount: -$6.78\n",
            "- 2% Weekend Discount: -$2.58\n",
            "\n",
            "Final Price After Discounts: $ 126.31\n"
          ]
        }
      ],
      "source": [
        "\n",
        "# 1. Set up the initial variables:\n",
        "# Initial variables\n",
        "purchase_amount = 150.75               # Example total cost\n",
        "is_loyalty_member = True               # Customer is a loyalty member\n",
        "day_of_week = \"Saturday\"               # Current day\n",
        "is_holiday_season = False              # It's not holiday season\n",
        "\n",
        "# Save the original amount\n",
        "original_amount = purchase_amount\n",
        "\n",
        "# List to keep track of discounts applied\n",
        "discounts_applied = []\n",
        "\n",
        "# 2. Apply discount rules using if statements:\n",
        "# Base discount based on amount\n",
        "if purchase_amount > 100:\n",
        "    discount = purchase_amount * 0.10\n",
        "    purchase_amount -= discount\n",
        "    discounts_applied.append((\"10% off for purchases over $100\", discount))\n",
        "elif purchase_amount > 50:\n",
        "    discount = purchase_amount * 0.05\n",
        "    purchase_amount -= discount\n",
        "    discounts_applied.append((\"5% off for purchases over $50\", discount))\n",
        "\n",
        "# Loyalty member discount\n",
        "if is_loyalty_member:\n",
        "    discount = purchase_amount * 0.05\n",
        "    purchase_amount -= discount\n",
        "    discounts_applied.append((\"5% Loyalty Member Discount\", discount))\n",
        "\n",
        "# Weekend discount\n",
        "if day_of_week in [\"Saturday\", \"Sunday\"]:\n",
        "    discount = purchase_amount * 0.02\n",
        "    purchase_amount -= discount\n",
        "    discounts_applied.append((\"2% Weekend Discount\", discount))\n",
        "\n",
        "# Holiday season discount\n",
        "if is_holiday_season:\n",
        "    discount = purchase_amount * 0.08\n",
        "    purchase_amount -= discount\n",
        "    discounts_applied.append((\"8% Holiday Season Discount\", discount))\n",
        "\n",
        "# 3. Calculate and display:\n",
        "# Display results\n",
        "print(\"Original Purchase Amount: $\", round(original_amount, 2))\n",
        "print(\"\\nDiscounts Applied:\")\n",
        "for desc, amount in discounts_applied:\n",
        "    print(f\"- {desc}: -${round(amount, 2)}\")\n",
        "\n",
        "print(\"\\nFinal Price After Discounts: $\", round(purchase_amount, 2))\n"
      ]
    },
    {
      "cell_type": "markdown",
      "metadata": {
        "id": "tt0aSV_drOiL"
      },
      "source": [
        "For Loop Assignment - Number Patterns"
      ]
    },
    {
      "cell_type": "code",
      "execution_count": null,
      "metadata": {
        "colab": {
          "base_uri": "https://localhost:8080/"
        },
        "id": "E4nL9haJrP8T",
        "outputId": "3c2b580d-8ca8-4f9f-ce9b-ff976573cb3f"
      },
      "outputs": [
        {
          "name": "stdout",
          "output_type": "stream",
          "text": [
            "1 2 3 4 5 6 7 8 9 10 "
          ]
        }
      ],
      "source": [
        "# Pattern 1: Counting Numbers\n",
        "# Print numbers from 1 to 10 on a single line.\n",
        "for i in range(1, 11):\n",
        "    print(i, end=\" \")\n"
      ]
    },
    {
      "cell_type": "markdown",
      "metadata": {
        "id": "r5eeqkzwtAwR"
      },
      "source": [
        "Pattern 2: Multiplication Table  \n",
        " Create a multiplication table for the number 5 (from 1 to 10)."
      ]
    },
    {
      "cell_type": "code",
      "execution_count": null,
      "metadata": {
        "colab": {
          "base_uri": "https://localhost:8080/"
        },
        "id": "giZAVgaTtCW6",
        "outputId": "9293f7a0-c400-45d7-bbfe-6d4aefc7106f"
      },
      "outputs": [
        {
          "name": "stdout",
          "output_type": "stream",
          "text": [
            "Multiplication Table for 5\n",
            "5 x 1 = 5\n",
            "5 x 2 = 10\n",
            "5 x 3 = 15\n",
            "5 x 4 = 20\n",
            "5 x 5 = 25\n",
            "5 x 6 = 30\n",
            "5 x 7 = 35\n",
            "5 x 8 = 40\n",
            "5 x 9 = 45\n",
            "5 x 10 = 50\n"
          ]
        }
      ],
      "source": [
        "print(\"Multiplication Table for 5\")\n",
        "for i in range(1, 11):\n",
        "    print(f\"5 x {i} = {5 * i}\")"
      ]
    },
    {
      "cell_type": "markdown",
      "metadata": {
        "id": "EYmo6cNqtfAr"
      },
      "source": [
        "While Loop Assignment - Interactive Game\n",
        "\n",
        "Create a simple number guessing game using a while loop."
      ]
    },
    {
      "cell_type": "code",
      "execution_count": null,
      "metadata": {
        "colab": {
          "base_uri": "https://localhost:8080/"
        },
        "id": "4vK5t740tmLl",
        "outputId": "35e6715d-d677-44ac-b063-40dd4ac35078"
      },
      "outputs": [
        {
          "metadata": {
            "tags": null
          },
          "name": "stdout",
          "output_type": "stream",
          "text": [
            "Guess the number between 1 and 50\n"
          ]
        }
      ],
      "source": [
        "\n",
        "# 1. Set a secret number between 1 and 50\n",
        "secret_number = 37  # You can choose any number between 1 and 50\n",
        "\n",
        "# 2. Initialize guess counter\n",
        "guess_count = 0\n",
        "\n",
        "\n",
        "print(\"Guess the number between 1 and 50\")\n",
        "\n",
        "#  3. Start the loop to ask for guesses\n",
        "while True:\n",
        "    try:\n",
        "        guess = int(input(\"Enter your guess: \"))\n",
        "        guess_count += 1\n",
        "\n",
        "        # 4. Check if the guess is too high, too low, or correct\n",
        "        if guess < secret_number:\n",
        "            print(\"Too low! Try again.\")\n",
        "        elif guess > secret_number:\n",
        "            print(\"Too high! Try again.\")\n",
        "        else:\n",
        "            print(f\"Congratulations! You guessed the correct number in {guess_count} tries.\")\n",
        "            break\n",
        "    except ValueError:\n",
        "        print(\"Invalid input! Please enter a number.\")\n"
      ]
    },
    {
      "cell_type": "code",
      "execution_count": null,
      "metadata": {
        "id": "s9JWnT_i3xtw"
      },
      "outputs": [],
      "source": []
    },
    {
      "cell_type": "markdown",
      "metadata": {
        "id": "oUJOHIXT3ooi"
      },
      "source": [
        "**Student Grade Management System **\n",
        "\n",
        "\n",
        "In this assignment, you will create a simple student grade management system using\n",
        "Python lists and dictionaries. This will help you understand how these data structures\n",
        "work together to organize and manage information.\n",
        "\n"
      ]
    },
    {
      "cell_type": "code",
      "execution_count": null,
      "metadata": {
        "id": "E04jjVcvMkHA",
        "colab": {
          "base_uri": "https://localhost:8080/"
        },
        "outputId": "81d6c660-7a9b-485f-885f-6df2efab732a"
      },
      "outputs": [
        {
          "output_type": "stream",
          "name": "stdout",
          "text": [
            " \n",
            "All students and their grades \n",
            "Name: Waiz Imran, ID: 101, Grades:{'Math': 88, 'Science': 92, 'History': 85}\n",
            "Name: Rabia Kamran, ID: 102, Grades:{'Math': 75, 'Science': 80, 'History': 78}\n",
            "Name: Sidra Noman, ID: 103, Grades:{'Math': 95, 'Science': 98, 'History': 90}\n",
            "\n",
            "Average grade for each student:\n",
            "Waiz Imran - Average Grade: 88.33\n",
            "Rabia Kamran - Average Grade: 77.67\n",
            "Sidra Noman - Average Grade: 94.33\n",
            "\n",
            "Top Student:Waiz Imran with Average Grade: 88.33\n",
            "\n",
            "Top Student:Waiz Imran with Average Grade: 88.33\n",
            "\n",
            "Top Student:Sidra Noman with Average Grade: 94.33\n",
            "\n",
            "Students with Average > 80:\n",
            "Waiz Imran - Average Grade: 88.33\n",
            "Sidra Noman - Average Grade: 94.33\n",
            "\n",
            "Average grade for Math: 86.0\n",
            "\n",
            "New student Aqsa Siddiqui added succesfully!\n",
            "Name: Waiz Imran, ID: 101, Grades:{'Math': 88, 'Science': 92, 'History': 85}\n",
            "Name: Rabia Kamran, ID: 102, Grades:{'Math': 75, 'Science': 80, 'History': 78}\n",
            "Name: Sidra Noman, ID: 103, Grades:{'Math': 95, 'Science': 98, 'History': 90}\n",
            "Name: Aqsa Siddiqui, ID: 104, Grades:{'Math': 82, 'Science': 89, 'History': 84}\n"
          ]
        }
      ],
      "source": [
        "# 1. Create a list to store student information\n",
        "students = [\n",
        "{\n",
        "    \"name\": \"Waiz Imran\",\n",
        "    \"id\": 101,\n",
        "    \"grades\": {\n",
        "        \"Math\": 88,\n",
        "        \"Science\": 92,\n",
        "        \"History\": 85\n",
        "    }\n",
        "},\n",
        "\n",
        "{\n",
        "    \"name\": \"Rabia Kamran\",\n",
        "    \"id\": 102,\n",
        "    \"grades\": {\n",
        "        \"Math\": 75,\n",
        "        \"Science\": 80,\n",
        "        \"History\": 78\n",
        "    }\n",
        "},\n",
        "\n",
        "{\n",
        "    \"name\": \"Sidra Noman\",\n",
        "    \"id\": 103,\n",
        "    \"grades\": {\n",
        "        \"Math\": 95,\n",
        "        \"Science\": 98,\n",
        "        \"History\": 90\n",
        "    }\n",
        "}]\n",
        "\n",
        "# Function to calculate average grade\n",
        "def calculate_average(grades):\n",
        "    return sum(grades.values()) / len(grades)\n",
        "\n",
        "# 3. Display all students with their grades and average\n",
        "print(\" \\nAll students and their grades \")\n",
        "for student in students:\n",
        "    print(f\"Name: {student['name']}, ID: {student['id']}, Grades:{student['grades']}\")\n",
        "\n",
        "# Calculate and display the average grade for each student\n",
        "print(\"\\nAverage grade for each student:\")\n",
        "for student in students:\n",
        "    grades = student[\"grades\"].values()\n",
        "    avg = sum(grades) / len(grades)\n",
        "    print(f\"{student['name']} - Average Grade: {round(avg,2)}\")\n",
        "\n",
        "# 4. Find student with highest average\n",
        "highest_avg = 0\n",
        "highest_avg_student = None\n",
        "for student in students:\n",
        "    grades = student[\"grades\"].values()\n",
        "    avg = sum(grades) / len(grades)\n",
        "    if avg > highest_avg:\n",
        "        highest_avg = avg\n",
        "        highest_avg_student = student\n",
        "    print(f\"\\nTop Student:{highest_avg_student['name']} with Average Grade: {round( highest_avg,2)}\")\n",
        "\n",
        "# 5. List all students with average > 80\n",
        "print(\"\\nStudents with Average > 80:\")\n",
        "for student in students:\n",
        "    grades = student[\"grades\"].values()\n",
        "    avg = sum(grades) / len(grades)\n",
        "    if avg > 80:\n",
        "        print(f\"{student['name']} - Average Grade: {round(avg,2)}\")\n",
        "\n",
        "\n",
        "# 6. Calculate average grade for a specific course (e.g., Math)\n",
        "course_name = \"Math\"\n",
        "course_total = 0\n",
        "course_count = 0\n",
        "for student in students:\n",
        "    if course_name in student[\"grades\"]:\n",
        "        course_total += student[\"grades\"][course_name]\n",
        "        course_count += 1\n",
        "if course_count > 0:\n",
        "    average_course_grade = course_total / course_count\n",
        "    print(f\"\\nAverage grade for {course_name}: {round(average_course_grade,2)}\")\n",
        "else:\n",
        "    print(f\"\\nNo grades found for {course_name}\")\n",
        "\n",
        "\n",
        "# 7. Add a new student to the system\n",
        "new_student = {\n",
        "    \"name\": \"Aqsa Siddiqui\",\n",
        "    \"id\": 104,\n",
        "    \"grades\": {\n",
        "        \"Math\": 82,\n",
        "        \"Science\": 89,\n",
        "        \"History\": 84\n",
        "    }\n",
        "}\n",
        "\n",
        "students.append(new_student)\n",
        "\n",
        "print(f\"\\nNew student {new_student['name']} added succesfully!\")\n",
        "\n",
        "# Final Display all  of students\n",
        "for student in students:\n",
        "    print(f\"Name: {student['name']}, ID: {student['id']}, Grades:{student['grades']}\")"
      ]
    }
  ],
  "metadata": {
    "colab": {
      "provenance": [],
      "authorship_tag": "ABX9TyOG/T03+2e/IwMpDdPEhfIk",
      "include_colab_link": true
    },
    "kernelspec": {
      "display_name": "Python 3",
      "name": "python3"
    },
    "language_info": {
      "name": "python"
    }
  },
  "nbformat": 4,
  "nbformat_minor": 0
}